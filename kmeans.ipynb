{
 "cells": [
  {
   "cell_type": "code",
   "execution_count": 1,
   "metadata": {},
   "outputs": [
    {
     "data": {
      "text/plain": [
       "'C:\\\\Users\\\\Bedirhan Çelik'"
      ]
     },
     "execution_count": 1,
     "metadata": {},
     "output_type": "execute_result"
    }
   ],
   "source": [
    "import os\n",
    "os.getcwd()"
   ]
  },
  {
   "cell_type": "code",
   "execution_count": 7,
   "metadata": {},
   "outputs": [
    {
     "data": {
      "text/plain": [
       "[1, 3, 2, -3]"
      ]
     },
     "execution_count": 7,
     "metadata": {},
     "output_type": "execute_result"
    }
   ],
   "source": [
    "#kmeans\n",
    "\n",
    "vector_1 = [1,3]\n",
    "vector_2 = [2,-3]\n",
    "vector_12=vector_1+vector_2\n",
    "vector_12"
   ]
  },
  {
   "cell_type": "code",
   "execution_count": 78,
   "metadata": {},
   "outputs": [
    {
     "data": {
      "text/plain": [
       "[[-8, -7], [6, -3], [4, -3], [-2, -1], [8, -2]]"
      ]
     },
     "execution_count": 78,
     "metadata": {},
     "output_type": "execute_result"
    }
   ],
   "source": [
    "def my_add(vector_1,vector_2):\n",
    "    vector_3 = [0,0]\n",
    "    vector_3[0] = vector_1[0] + vector_2[0]\n",
    "    vector_3[1] = vector_1[1] + vector_2[1]\n",
    "    return vector_3\n",
    "\n",
    "#üstteki ekleme fonksiyonunun genelleştirilmiş hali\n",
    "def my_add_1(vec_1,vec_2):\n",
    "    s = len(vec_1) # aynı boyutta olmaları gerekir vektörlerin toplanabilmesi için\n",
    "    result_vec = []\n",
    "    \n",
    "    for i in range(s):\n",
    "        temp = vec_1[i] + vec_2[i]\n",
    "        result_vec.append(temp)\n",
    "    return result_vec\n",
    "\n",
    "import random\n",
    "def my_create_vectors(m=5,n=2):\n",
    "    #m,n=2,3 # 2 vektor 3 boyut\n",
    "    my_vec=[]\n",
    "    for i in range(m):\n",
    "        my_vec.append([])\n",
    "        for j in range(n):\n",
    "            t = random.randint(-10,10)\n",
    "            my_vec[i].append(t)\n",
    "    return my_vec\n",
    "my_create_vectors()\n",
    "#şimdi istediğimiz kadar vector oluşturup toplayabilirim.\n"
   ]
  },
  {
   "cell_type": "code",
   "execution_count": 81,
   "metadata": {},
   "outputs": [],
   "source": [
    "#merkezi hesaplıyoruz\n",
    "def my_center(vec_1,vec_2):\n",
    "    s = len(vec_1)\n",
    "    result_vec=[]\n",
    "    for i in range(s):\n",
    "        temp=(vec_1[i]+vec_2[i])/2\n",
    "        result_vec.append(temp)\n",
    "    return result_vec"
   ]
  },
  {
   "cell_type": "code",
   "execution_count": 83,
   "metadata": {},
   "outputs": [
    {
     "data": {
      "text/plain": [
       "[-0.5, 0.0, 3.5]"
      ]
     },
     "execution_count": 83,
     "metadata": {},
     "output_type": "execute_result"
    }
   ],
   "source": [
    "v_1 = [1,3,1]\n",
    "v_2 = [-2,-3,6]\n",
    "my_center(v_1,v_2)"
   ]
  },
  {
   "cell_type": "code",
   "execution_count": 88,
   "metadata": {},
   "outputs": [
    {
     "data": {
      "text/plain": [
       "5.0"
      ]
     },
     "execution_count": 88,
     "metadata": {},
     "output_type": "execute_result"
    }
   ],
   "source": [
    "#mesafe hesaplama\n",
    "def my_distance(v_1,v_2):\n",
    "    s = len(v_1)\n",
    "    t = 0\n",
    "    for i in range(s):\n",
    "        t = t + (v_1[i] - v_2[i])**2\n",
    "    return t**(0.5)\n",
    "\n",
    "vector_1 = [0,4,0]\n",
    "vector_2 = [3,0,0]\n",
    "my_distance(vector_1,vector_2)"
   ]
  }
 ],
 "metadata": {
  "kernelspec": {
   "display_name": "Python 3",
   "language": "python",
   "name": "python3"
  },
  "language_info": {
   "codemirror_mode": {
    "name": "ipython",
    "version": 3
   },
   "file_extension": ".py",
   "mimetype": "text/x-python",
   "name": "python",
   "nbconvert_exporter": "python",
   "pygments_lexer": "ipython3",
   "version": "3.7.0"
  }
 },
 "nbformat": 4,
 "nbformat_minor": 2
}
